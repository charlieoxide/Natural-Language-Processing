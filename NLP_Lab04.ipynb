{
  "nbformat": 4,
  "nbformat_minor": 0,
  "metadata": {
    "colab": {
      "provenance": []
    },
    "kernelspec": {
      "name": "python3",
      "display_name": "Python 3"
    },
    "language_info": {
      "name": "python"
    }
  },
  "cells": [
    {
      "cell_type": "code",
      "execution_count": null,
      "metadata": {
        "id": "8GoVhYI5mgDp",
        "colab": {
          "base_uri": "https://localhost:8080/"
        },
        "outputId": "b2562526-81d7-4682-bc82-3805ffb1c638"
      },
      "outputs": [
        {
          "output_type": "stream",
          "name": "stdout",
          "text": [
            "Chunk: Barack, Label: PERSON\n",
            "Chunk: Obama, Label: PERSON\n",
            "Standalone words: lived\n",
            "Standalone words: in\n",
            "Chunk: Shirpur, Label: GPE\n",
            "Standalone words: and\n",
            "Standalone words: served\n",
            "Standalone words: as\n",
            "Standalone words: the\n",
            "Standalone words: 44th\n",
            "Standalone words: President\n",
            "Standalone words: of\n",
            "Standalone words: the\n",
            "Chunk: United States, Label: GPE\n"
          ]
        },
        {
          "output_type": "stream",
          "name": "stderr",
          "text": [
            "[nltk_data] Downloading package punkt to /root/nltk_data...\n",
            "[nltk_data]   Package punkt is already up-to-date!\n",
            "[nltk_data] Downloading package averaged_perceptron_tagger to\n",
            "[nltk_data]     /root/nltk_data...\n",
            "[nltk_data]   Package averaged_perceptron_tagger is already up-to-\n",
            "[nltk_data]       date!\n",
            "[nltk_data] Downloading package maxent_ne_chunker to\n",
            "[nltk_data]     /root/nltk_data...\n",
            "[nltk_data]   Package maxent_ne_chunker is already up-to-date!\n",
            "[nltk_data] Downloading package words to /root/nltk_data...\n",
            "[nltk_data]   Package words is already up-to-date!\n"
          ]
        }
      ],
      "source": [
        "import nltk\n",
        "from nltk import word_tokenize, pos_tag, ne_chunk\n",
        "\n",
        "#download resources\n",
        "nltk.download('punkt')\n",
        "nltk.download('averaged_perceptron_tagger')\n",
        "nltk.download('maxent_ne_chunker')\n",
        "nltk.download('words')\n",
        "\n",
        "def chunk_text(input_text):\n",
        "  words=word_tokenize(input_text) #tokenize input\n",
        "  pos_tags=pos_tag(words)  #part of speech tagging\n",
        "  chunks=ne_chunk(pos_tags)   #perform named entity chunking\n",
        "\n",
        "  #extract and print chunks\n",
        "  for chunk in chunks:\n",
        "    if isinstance(chunk, nltk.Tree):\n",
        "      #if the chunk is subtree(represents a named entity), join the words\n",
        "      chunk_label=' '.join([word for word, tag in chunk.leaves()])\n",
        "      print(f\"Chunk: {chunk_label}, Label: {chunk.label()}\")\n",
        "    else:\n",
        "      #if the chunk is standalone words, print as it is\n",
        "      print(f\"Standalone words: {chunk[0]}\")\n",
        "input_text=\"Barack Obama lived in Shirpur and served as the 44th President of the United States\"\n",
        "chunk_text(input_text)"
      ]
    },
    {
      "cell_type": "code",
      "source": [],
      "metadata": {
        "id": "9KC9XOAcsFAn"
      },
      "execution_count": null,
      "outputs": []
    }
  ]
}